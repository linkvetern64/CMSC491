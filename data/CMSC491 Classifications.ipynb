{
 "cells": [
  {
   "cell_type": "code",
   "execution_count": null,
   "metadata": {
    "collapsed": true
   },
   "outputs": [],
   "source": [
    "import pandas\n",
    "from sklearn.linear_model import LogisticRegression\n",
    "import numpy as np\n",
    "import matplotlib.pyplot as plt\n",
    "import seaborn as sns\n",
    "import pandas as pd\n",
    "import random\n",
    "import re\n",
    "import inspect\n",
    "\n",
    "df1 = pandas.read_csv('Calls_for_Disorderly.csv')\n",
    "df2 = pandas.read_csv('Calls_for_Common_Assault.csv')\n",
    "df3 = pandas.read_csv('Calls_for_Family_Disturb.csv')\n",
    "df4 = pandas.read_csv('Calls_for_Behavioral_Crisis.csv')"
   ]
  },
  {
   "cell_type": "code",
   "execution_count": null,
   "metadata": {
    "collapsed": true
   },
   "outputs": [],
   "source": [
    "model = LogisticRegression(C=1e5, solver='sag', multi_class='multinomial', max_iter=1000, \n",
    "                                        class_weight=None, dual=False, fit_intercept=True, intercept_scaling=1,\n",
    "                                        penalty='l2', tol=0.0001, verbose=0, warm_start=False)\n",
    "classifier = OneVsRestClassifier(model)"
   ]
  }
 ],
 "metadata": {
  "kernelspec": {
   "display_name": "Python 3",
   "language": "python",
   "name": "python3"
  },
  "language_info": {
   "codemirror_mode": {
    "name": "ipython",
    "version": 3
   },
   "file_extension": ".py",
   "mimetype": "text/x-python",
   "name": "python",
   "nbconvert_exporter": "python",
   "pygments_lexer": "ipython3",
   "version": "3.6.2"
  }
 },
 "nbformat": 4,
 "nbformat_minor": 2
}
