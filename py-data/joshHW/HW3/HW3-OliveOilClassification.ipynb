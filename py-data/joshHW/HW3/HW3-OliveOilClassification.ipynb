{
 "cells": [
  {
   "cell_type": "markdown",
   "metadata": {},
   "source": [
    "# HW3: Task\n",
    "Predict the region and area (or areaname) of olive oils based on their fatty acid contents.source \n",
    "\n",
    "The task's source is http://www.ggobi.org/book/\n",
    "\n",
    "Fit and evaluate the classification predictions of LDA, LogisticRegression, SVM, k-NN, and \n",
    "Random Forests for both the region and area.\n",
    "\n",
    "### 20 pts for each classifier\n",
    "\n",
    "You may use the Classification Jupyter Notebook Dr. Kalpakis prepared for the class."
   ]
  },
  {
   "cell_type": "markdown",
   "metadata": {},
   "source": [
    "## Dataset description and data"
   ]
  },
  {
   "cell_type": "code",
   "execution_count": 134,
   "metadata": {},
   "outputs": [
    {
     "data": {
      "text/html": [
       "\n",
       "        <iframe\n",
       "            width=\"100\"\n",
       "            height=\"100\"\n",
       "            src=\"OliveOil2.pdf?embed=True\"\n",
       "            frameborder=\"0\"\n",
       "            allowfullscreen\n",
       "        ></iframe>\n",
       "        "
      ],
      "text/plain": [
       "<IPython.lib.display.IFrame at 0x1a1f5f3748>"
      ]
     },
     "execution_count": 134,
     "metadata": {},
     "output_type": "execute_result"
    }
   ],
   "source": [
    "from IPython.display import IFrame\n",
    "IFrame(\"OliveOil2.pdf\", height=100, width=100, embed=True)"
   ]
  },
  {
   "cell_type": "code",
   "execution_count": 1,
   "metadata": {
    "collapsed": true
   },
   "outputs": [],
   "source": [
    "%matplotlib inline\n",
    "import pandas as pd\n",
    "import numpy as np"
   ]
  },
  {
   "cell_type": "code",
   "execution_count": 3,
   "metadata": {
    "scrolled": true
   },
   "outputs": [
    {
     "data": {
      "text/html": [
       "<div>\n",
       "<style>\n",
       "    .dataframe thead tr:only-child th {\n",
       "        text-align: right;\n",
       "    }\n",
       "\n",
       "    .dataframe thead th {\n",
       "        text-align: left;\n",
       "    }\n",
       "\n",
       "    .dataframe tbody tr th {\n",
       "        vertical-align: top;\n",
       "    }\n",
       "</style>\n",
       "<table border=\"1\" class=\"dataframe\">\n",
       "  <thead>\n",
       "    <tr style=\"text-align: right;\">\n",
       "      <th></th>\n",
       "      <th>areaname</th>\n",
       "      <th>region</th>\n",
       "      <th>area</th>\n",
       "      <th>palmitic</th>\n",
       "      <th>palmitoleic</th>\n",
       "      <th>stearic</th>\n",
       "      <th>oleic</th>\n",
       "      <th>linoleic</th>\n",
       "      <th>linolenic</th>\n",
       "      <th>arachidic</th>\n",
       "      <th>eicosenoic</th>\n",
       "    </tr>\n",
       "  </thead>\n",
       "  <tbody>\n",
       "    <tr>\n",
       "      <th>164</th>\n",
       "      <td>South-Apulia</td>\n",
       "      <td>1</td>\n",
       "      <td>3</td>\n",
       "      <td>1355</td>\n",
       "      <td>144</td>\n",
       "      <td>214</td>\n",
       "      <td>6972</td>\n",
       "      <td>1198</td>\n",
       "      <td>33</td>\n",
       "      <td>60</td>\n",
       "      <td>24</td>\n",
       "    </tr>\n",
       "    <tr>\n",
       "      <th>526</th>\n",
       "      <td>West-Liguria</td>\n",
       "      <td>3</td>\n",
       "      <td>8</td>\n",
       "      <td>1010</td>\n",
       "      <td>90</td>\n",
       "      <td>350</td>\n",
       "      <td>7480</td>\n",
       "      <td>1050</td>\n",
       "      <td>10</td>\n",
       "      <td>10</td>\n",
       "      <td>1</td>\n",
       "    </tr>\n",
       "    <tr>\n",
       "      <th>69</th>\n",
       "      <td>Calabria</td>\n",
       "      <td>1</td>\n",
       "      <td>2</td>\n",
       "      <td>1432</td>\n",
       "      <td>152</td>\n",
       "      <td>281</td>\n",
       "      <td>7029</td>\n",
       "      <td>949</td>\n",
       "      <td>39</td>\n",
       "      <td>55</td>\n",
       "      <td>25</td>\n",
       "    </tr>\n",
       "    <tr>\n",
       "      <th>368</th>\n",
       "      <td>Inland-Sardinia</td>\n",
       "      <td>2</td>\n",
       "      <td>5</td>\n",
       "      <td>1178</td>\n",
       "      <td>89</td>\n",
       "      <td>201</td>\n",
       "      <td>7381</td>\n",
       "      <td>1099</td>\n",
       "      <td>34</td>\n",
       "      <td>87</td>\n",
       "      <td>2</td>\n",
       "    </tr>\n",
       "    <tr>\n",
       "      <th>282</th>\n",
       "      <td>Sicily</td>\n",
       "      <td>1</td>\n",
       "      <td>4</td>\n",
       "      <td>1222</td>\n",
       "      <td>130</td>\n",
       "      <td>214</td>\n",
       "      <td>7374</td>\n",
       "      <td>856</td>\n",
       "      <td>38</td>\n",
       "      <td>89</td>\n",
       "      <td>45</td>\n",
       "    </tr>\n",
       "    <tr>\n",
       "      <th>317</th>\n",
       "      <td>South-Apulia</td>\n",
       "      <td>1</td>\n",
       "      <td>3</td>\n",
       "      <td>1692</td>\n",
       "      <td>270</td>\n",
       "      <td>234</td>\n",
       "      <td>6499</td>\n",
       "      <td>1196</td>\n",
       "      <td>31</td>\n",
       "      <td>59</td>\n",
       "      <td>15</td>\n",
       "    </tr>\n",
       "    <tr>\n",
       "      <th>457</th>\n",
       "      <td>Umbria</td>\n",
       "      <td>3</td>\n",
       "      <td>9</td>\n",
       "      <td>1098</td>\n",
       "      <td>54</td>\n",
       "      <td>202</td>\n",
       "      <td>7945</td>\n",
       "      <td>595</td>\n",
       "      <td>42</td>\n",
       "      <td>32</td>\n",
       "      <td>2</td>\n",
       "    </tr>\n",
       "    <tr>\n",
       "      <th>97</th>\n",
       "      <td>South-Apulia</td>\n",
       "      <td>1</td>\n",
       "      <td>3</td>\n",
       "      <td>1323</td>\n",
       "      <td>160</td>\n",
       "      <td>205</td>\n",
       "      <td>6911</td>\n",
       "      <td>1298</td>\n",
       "      <td>24</td>\n",
       "      <td>50</td>\n",
       "      <td>17</td>\n",
       "    </tr>\n",
       "    <tr>\n",
       "      <th>414</th>\n",
       "      <td>Coast-Sardinia</td>\n",
       "      <td>2</td>\n",
       "      <td>6</td>\n",
       "      <td>1141</td>\n",
       "      <td>95</td>\n",
       "      <td>250</td>\n",
       "      <td>7035</td>\n",
       "      <td>1388</td>\n",
       "      <td>22</td>\n",
       "      <td>68</td>\n",
       "      <td>2</td>\n",
       "    </tr>\n",
       "    <tr>\n",
       "      <th>36</th>\n",
       "      <td>Calabria</td>\n",
       "      <td>1</td>\n",
       "      <td>2</td>\n",
       "      <td>1245</td>\n",
       "      <td>72</td>\n",
       "      <td>283</td>\n",
       "      <td>7395</td>\n",
       "      <td>829</td>\n",
       "      <td>44</td>\n",
       "      <td>67</td>\n",
       "      <td>28</td>\n",
       "    </tr>\n",
       "  </tbody>\n",
       "</table>\n",
       "</div>"
      ],
      "text/plain": [
       "            areaname  region  area  palmitic  palmitoleic  stearic  oleic  \\\n",
       "164     South-Apulia       1     3      1355          144      214   6972   \n",
       "526     West-Liguria       3     8      1010           90      350   7480   \n",
       "69          Calabria       1     2      1432          152      281   7029   \n",
       "368  Inland-Sardinia       2     5      1178           89      201   7381   \n",
       "282           Sicily       1     4      1222          130      214   7374   \n",
       "317     South-Apulia       1     3      1692          270      234   6499   \n",
       "457           Umbria       3     9      1098           54      202   7945   \n",
       "97      South-Apulia       1     3      1323          160      205   6911   \n",
       "414   Coast-Sardinia       2     6      1141           95      250   7035   \n",
       "36          Calabria       1     2      1245           72      283   7395   \n",
       "\n",
       "     linoleic  linolenic  arachidic  eicosenoic  \n",
       "164      1198         33         60          24  \n",
       "526      1050         10         10           1  \n",
       "69        949         39         55          25  \n",
       "368      1099         34         87           2  \n",
       "282       856         38         89          45  \n",
       "317      1196         31         59          15  \n",
       "457       595         42         32           2  \n",
       "97       1298         24         50          17  \n",
       "414      1388         22         68           2  \n",
       "36        829         44         67          28  "
      ]
     },
     "execution_count": 3,
     "metadata": {},
     "output_type": "execute_result"
    }
   ],
   "source": [
    "# The dataset\n",
    "df=pd.read_csv(\"olive.csv\")\n",
    "df.rename(columns={df.columns[0]:'areaname'}, inplace=True)\n",
    "df.areaname=df.areaname.map(lambda x: x.split('.')[-1])\n",
    "df_cp = df.copy()\n",
    "df.sample(50).head(10)"
   ]
  },
  {
   "cell_type": "markdown",
   "metadata": {},
   "source": [
    " ## DataFrame creation and copying"
   ]
  },
  {
   "cell_type": "code",
   "execution_count": 5,
   "metadata": {
    "collapsed": true
   },
   "outputs": [],
   "source": [
    "#Define sample size\n",
    "SAMPLE_SIZE = 40\n",
    "df = df_cp\n",
    "#Areas dictionary\n",
    "area_names = {1:\"North-Apulia\", 2:\"Calabria\", 3:\"South-Apulia\", 4:\"Sicily\", 5:\"Inland-Sardinia\", 6:\"Coast-Sardinia\", 7:\"East-Liguria\", 8:\"West-Liguria\", 9:\"Umbria\"}\n",
    "\n",
    "#Create new DataFrames\n",
    "fats = pd.DataFrame(columns=['palmitic', 'palmitoleic', 'stearic', 'oleic', 'linoleic', 'linolenic', 'arachidic', 'eicosenoic'])\n",
    "regions = pd.DataFrame(columns=['region'])\n",
    "areas = pd.DataFrame(columns=['area'])\n",
    "\n",
    "#Remove data for sampling\n",
    "train_fats = pd.DataFrame(columns=['palmitic', 'palmitoleic', 'stearic', 'oleic', 'linoleic', 'linolenic', 'arachidic', 'eicosenoic'])\n",
    "train_regions = pd.DataFrame(columns=['region'])\n",
    "train_areas = pd.DataFrame(columns=['area'])\n",
    "\n",
    "#Get sample and train data\n",
    "train = df.sample(SAMPLE_SIZE)\n",
    "df.drop(train.index, inplace=True)\n",
    "\n",
    "#Train fats copy \n",
    "train_fats.palmitic = train.palmitic.copy()\n",
    "train_fats.palmitoleic = train.palmitoleic.copy()\n",
    "train_fats.stearic = train.stearic.copy()\n",
    "train_fats.oleic = train.oleic.copy()\n",
    "train_fats.linoleic = train.linoleic.copy()\n",
    "train_fats.linolenic = train.linolenic.copy()\n",
    "train_fats.arachidic = train.arachidic.copy()\n",
    "train_fats.eicosenoic = train.eicosenoic.copy()\n",
    "\n",
    "#Train regions data copy\n",
    "train_regions.region = train.region.copy()\n",
    "\n",
    "#Train areas data copy\n",
    "train_areas.area = train.area.copy()\n",
    "\n",
    "#Make matrices out of data\n",
    "ar_areas = train_areas.as_matrix()\n",
    "ar_regions = train_regions.as_matrix()\n",
    "\n",
    "#Split fats away from labels\n",
    "#Copy to new Data Frames\n",
    "fats.palmitic = df.palmitic.copy()\n",
    "fats.palmitoleic = df.palmitoleic.copy()\n",
    "fats.stearic = df.stearic.copy()\n",
    "fats.oleic = df.oleic.copy()\n",
    "fats.linoleic = df.linoleic.copy()\n",
    "fats.linolenic = df.linolenic.copy()\n",
    "fats.arachidic = df.arachidic.copy()\n",
    "fats.eicosenoic = df.eicosenoic.copy()\n",
    "\n",
    "#Regions data copy\n",
    "regions.region = df.region.copy()\n",
    "\n",
    "#Areas data copy\n",
    "areas.area = df.area.copy()\n",
    "\n",
    "#5 test points\n",
    "points = [[1140, 90, 240, 7880, 570, 20, 60, 3],   #East-Liguria - 3 \n",
    "          [1166, 97, 272, 6971, 1390, 20, 83, 3],  # Coast-Sardinia - 2\n",
    "          [1051, 78, 211, 7421, 1146, 30, 82, 2],  # Inland-Sardinia - 2\n",
    "          [1264, 167, 166, 7130, 1187, 22, 52, 12],#South Apulia - 1\n",
    "          [1095, 58, 198, 7945, 600, 35, 34, 1]]   #Umbria - 3 \n",
    "\n"
   ]
  },
  {
   "cell_type": "markdown",
   "metadata": {},
   "source": [
    "## 1. LDA\n",
    "\n",
    "### Predicting Areas"
   ]
  },
  {
   "cell_type": "code",
   "execution_count": 144,
   "metadata": {},
   "outputs": [
    {
     "name": "stdout",
     "output_type": "stream",
     "text": [
      "-- Results --\n",
      "Right # = 38\n",
      "Wrong # = 2\n",
      "Correct = 95.0 %\n"
     ]
    }
   ],
   "source": [
    "from sklearn.discriminant_analysis import LinearDiscriminantAnalysis\n",
    "\n",
    "clf = LinearDiscriminantAnalysis()\n",
    "clf.fit(fats.as_matrix(), areas.area)\n",
    "\n",
    "i = 0\n",
    "correct = 0\n",
    "wrong = 0\n",
    "\n",
    "\n",
    "for point in train_fats.as_matrix():\n",
    "    name = area_names[clf.predict([point])[0]]\n",
    "    #print(\"Point: \", point, \" - Area: \", name)  \n",
    "    if(name == area_names[ar_areas[i][0]]):\n",
    "        correct += 1\n",
    "    else:\n",
    "        wrong += 1\n",
    "    i+=1\n",
    "\n",
    "print(\"-- Results --\")\n",
    "print(\"Right # =\", correct)\n",
    "print(\"Wrong # =\", wrong)\n",
    "print(\"Correct =\", (correct / SAMPLE_SIZE) * 100,\"%\")"
   ]
  },
  {
   "cell_type": "markdown",
   "metadata": {},
   "source": [
    " ## 1. LDA\n",
    " \n",
    " ### Predicting Regions"
   ]
  },
  {
   "cell_type": "code",
   "execution_count": 145,
   "metadata": {},
   "outputs": [
    {
     "name": "stdout",
     "output_type": "stream",
     "text": [
      "-- Results --\n",
      "Right # = 40\n",
      "Wrong # = 0\n",
      "Correct = 100.0 %\n"
     ]
    }
   ],
   "source": [
    "clf = LinearDiscriminantAnalysis()\n",
    "clf.fit(fats.as_matrix(), regions.region)\n",
    "\n",
    "\n",
    "i = 0\n",
    "correct = 0\n",
    "wrong = 0\n",
    "\n",
    "\n",
    "for point in train_fats.as_matrix():\n",
    "    name = clf.predict([point])[0]\n",
    "    if(name == ar_regions[i][0]):\n",
    "        correct += 1\n",
    "    else:\n",
    "        wrong += 1\n",
    "    i+=1\n",
    "\n",
    "print(\"-- Results --\")\n",
    "print(\"Right # =\", correct)\n",
    "print(\"Wrong # =\", wrong)\n",
    "print(\"Correct =\", (correct / SAMPLE_SIZE) * 100,\"%\")"
   ]
  },
  {
   "cell_type": "markdown",
   "metadata": {},
   "source": [
    "## 2. Logistic Regression\n",
    "### Predicting areas"
   ]
  },
  {
   "cell_type": "code",
   "execution_count": 146,
   "metadata": {},
   "outputs": [
    {
     "name": "stdout",
     "output_type": "stream",
     "text": [
      "-- Results --\n",
      "Right # = 39\n",
      "Wrong # = 1\n",
      "Correct = 97.5 %\n"
     ]
    }
   ],
   "source": [
    "from sklearn.linear_model import LogisticRegression\n",
    "\n",
    "lr = LogisticRegression()\n",
    "lr.fit(fats.as_matrix(), areas.area)\n",
    "\n",
    "i = 0\n",
    "correct = 0\n",
    "wrong = 0\n",
    "\n",
    "\n",
    "for point in train_fats.as_matrix():\n",
    "    name = area_names[lr.predict([point])[0]]\n",
    "    #print(\"Point: \", point, \" - Area: \", name)  \n",
    "    if(name == area_names[ar_areas[i][0]]):\n",
    "        correct += 1\n",
    "    else:\n",
    "        wrong += 1\n",
    "    i+=1\n",
    "\n",
    "print(\"-- Results --\")\n",
    "print(\"Right # =\", correct)\n",
    "print(\"Wrong # =\", wrong)\n",
    "print(\"Correct =\", (correct / SAMPLE_SIZE) * 100,\"%\")"
   ]
  },
  {
   "cell_type": "markdown",
   "metadata": {},
   "source": [
    "## 2. Logistic Regression\n",
    "### Predicting regions"
   ]
  },
  {
   "cell_type": "code",
   "execution_count": 147,
   "metadata": {},
   "outputs": [
    {
     "name": "stdout",
     "output_type": "stream",
     "text": [
      "-- Results --\n",
      "Right # = 40\n",
      "Wrong # = 0\n",
      "Correct = 100.0 %\n"
     ]
    }
   ],
   "source": [
    "lr = LogisticRegression()\n",
    "lr.fit(fats.as_matrix(), regions.region)\n",
    "\n",
    "i = 0\n",
    "correct = 0\n",
    "wrong = 0\n",
    "\n",
    "\n",
    "for point in train_fats.as_matrix():\n",
    "    name = lr.predict([point])[0]\n",
    "    if(name == ar_regions[i][0]):\n",
    "        correct += 1\n",
    "    else:\n",
    "        wrong += 1\n",
    "    i+=1\n",
    "\n",
    "print(\"-- Results --\")\n",
    "print(\"Right # =\", correct)\n",
    "print(\"Wrong # =\", wrong)\n",
    "print(\"Correct =\", (correct / SAMPLE_SIZE) * 100,\"%\")"
   ]
  },
  {
   "cell_type": "markdown",
   "metadata": {},
   "source": [
    "## 3. SVM\n",
    "### Predict areas"
   ]
  },
  {
   "cell_type": "code",
   "execution_count": 148,
   "metadata": {},
   "outputs": [
    {
     "name": "stdout",
     "output_type": "stream",
     "text": [
      "-- Results --\n",
      "Right # = 15\n",
      "Wrong # = 25\n",
      "Correct = 37.5 %\n"
     ]
    }
   ],
   "source": [
    "from sklearn import svm\n",
    "\n",
    "sm = svm.SVC()\n",
    "sm.fit(fats.as_matrix(), areas.area)\n",
    "\n",
    "i = 0\n",
    "correct = 0\n",
    "wrong = 0\n",
    "\n",
    "\n",
    "for point in train_fats.as_matrix():\n",
    "    name = area_names[sm.predict([point])[0]]\n",
    "    #print(\"Point: \", point, \" - Area: \", name)  \n",
    "    if(name == area_names[ar_areas[i][0]]):\n",
    "        correct += 1\n",
    "    else:\n",
    "        wrong += 1\n",
    "    i+=1\n",
    "\n",
    "print(\"-- Results --\")\n",
    "print(\"Right # =\", correct)\n",
    "print(\"Wrong # =\", wrong)\n",
    "print(\"Correct =\", (correct / SAMPLE_SIZE) * 100,\"%\")  "
   ]
  },
  {
   "cell_type": "markdown",
   "metadata": {},
   "source": [
    "## 3. SVM\n",
    "### Predict regions"
   ]
  },
  {
   "cell_type": "code",
   "execution_count": 149,
   "metadata": {},
   "outputs": [
    {
     "name": "stdout",
     "output_type": "stream",
     "text": [
      "-- Results --\n",
      "Right # = 22\n",
      "Wrong # = 18\n",
      "Correct = 55.00000000000001 %\n"
     ]
    }
   ],
   "source": [
    "sm = svm.SVC()\n",
    "sm.fit(fats.as_matrix(), regions.region)\n",
    "\n",
    "i = 0\n",
    "correct = 0\n",
    "wrong = 0\n",
    "\n",
    "\n",
    "for point in train_fats.as_matrix():\n",
    "    name = sm.predict([point])[0]\n",
    "    if(name == ar_regions[i][0]):\n",
    "        correct += 1\n",
    "    else:\n",
    "        wrong += 1\n",
    "    i+=1\n",
    "\n",
    "print(\"-- Results --\")\n",
    "print(\"Right # =\", correct)\n",
    "print(\"Wrong # =\", wrong)\n",
    "print(\"Correct =\", (correct / SAMPLE_SIZE) * 100,\"%\")"
   ]
  },
  {
   "cell_type": "markdown",
   "metadata": {},
   "source": [
    "## 4. k-NN\n",
    "### Predict areas"
   ]
  },
  {
   "cell_type": "code",
   "execution_count": 6,
   "metadata": {},
   "outputs": [
    {
     "name": "stdout",
     "output_type": "stream",
     "text": [
      "-- Results --\n",
      "Right # = 36\n",
      "Wrong # = 4\n",
      "Correct = 90.0 %\n"
     ]
    }
   ],
   "source": [
    "from sklearn.neighbors import KNeighborsClassifier\n",
    "knn = KNeighborsClassifier(n_neighbors=5)\n",
    "knn.fit(fats.as_matrix(), areas.area) \n",
    "\n",
    "\n",
    "i = 0\n",
    "correct = 0\n",
    "wrong = 0\n",
    "\n",
    "\n",
    "for point in train_fats.as_matrix():\n",
    "    name = area_names[knn.predict([point])[0]]\n",
    "    #print(\"Point: \", point, \" - Area: \", name)  \n",
    "    if(name == area_names[ar_areas[i][0]]):\n",
    "        correct += 1\n",
    "    else:\n",
    "        wrong += 1\n",
    "    i+=1\n",
    "\n",
    "print(\"-- Results --\")\n",
    "print(\"Right # =\", correct)\n",
    "print(\"Wrong # =\", wrong)\n",
    "print(\"Correct =\", (correct / SAMPLE_SIZE) * 100,\"%\")"
   ]
  },
  {
   "cell_type": "markdown",
   "metadata": {},
   "source": [
    "## 4. k-NN\n",
    "### Predict regions"
   ]
  },
  {
   "cell_type": "code",
   "execution_count": 7,
   "metadata": {},
   "outputs": [
    {
     "name": "stdout",
     "output_type": "stream",
     "text": [
      "-- Results --\n",
      "Right # = 39\n",
      "Wrong # = 1\n",
      "Correct = 97.5 %\n"
     ]
    }
   ],
   "source": [
    "knn = KNeighborsClassifier(n_neighbors=3)\n",
    "knn.fit(fats.as_matrix(), regions.region) \n",
    "\n",
    "i = 0\n",
    "correct = 0\n",
    "wrong = 0\n",
    "\n",
    "\n",
    "for point in train_fats.as_matrix():\n",
    "    name = knn.predict([point])[0]\n",
    "    if(name == ar_regions[i][0]):\n",
    "        correct += 1\n",
    "    else:\n",
    "        wrong += 1\n",
    "    i+=1\n",
    "\n",
    "print(\"-- Results --\")\n",
    "print(\"Right # =\", correct)\n",
    "print(\"Wrong # =\", wrong)\n",
    "print(\"Correct =\", (correct / SAMPLE_SIZE) * 100,\"%\")"
   ]
  },
  {
   "cell_type": "markdown",
   "metadata": {},
   "source": [
    "## 5. Random Forest\n",
    "### Predict areas"
   ]
  },
  {
   "cell_type": "code",
   "execution_count": 8,
   "metadata": {},
   "outputs": [
    {
     "name": "stdout",
     "output_type": "stream",
     "text": [
      "-- Results --\n",
      "Right # = 36\n",
      "Wrong # = 4\n",
      "Correct = 90.0 %\n"
     ]
    }
   ],
   "source": [
    "from sklearn.ensemble import RandomForestClassifier\n",
    "\n",
    "rf = RandomForestClassifier(max_depth=3, random_state=0)\n",
    "rf.fit(fats.as_matrix(), areas.area)\n",
    "\n",
    "\n",
    "i = 0\n",
    "correct = 0\n",
    "wrong = 0\n",
    "\n",
    "\n",
    "for point in train_fats.as_matrix():\n",
    "    name = area_names[rf.predict([point])[0]]\n",
    "    #print(\"Point: \", point, \" - Area: \", name)  \n",
    "    if(name == area_names[ar_areas[i][0]]):\n",
    "        correct += 1\n",
    "    else:\n",
    "        wrong += 1\n",
    "    i+=1\n",
    "\n",
    "print(\"-- Results --\")\n",
    "print(\"Right # =\", correct)\n",
    "print(\"Wrong # =\", wrong)\n",
    "print(\"Correct =\", (correct / SAMPLE_SIZE) * 100,\"%\")     \n"
   ]
  },
  {
   "cell_type": "markdown",
   "metadata": {},
   "source": [
    "## 5. Random Forest\n",
    "### Predict regions"
   ]
  },
  {
   "cell_type": "code",
   "execution_count": 9,
   "metadata": {},
   "outputs": [
    {
     "name": "stdout",
     "output_type": "stream",
     "text": [
      "-- Results --\n",
      "Right # = 40\n",
      "Wrong # = 0\n",
      "Correct = 100.0 %\n"
     ]
    }
   ],
   "source": [
    "rf = RandomForestClassifier(max_depth=3, random_state=0)\n",
    "rf.fit(fats.as_matrix(), regions.region)\n",
    "\n",
    "i = 0\n",
    "correct = 0\n",
    "wrong = 0\n",
    "\n",
    "\n",
    "for point in train_fats.as_matrix():\n",
    "    name = rf.predict([point])[0]\n",
    "    if(name == ar_regions[i][0]):\n",
    "        correct += 1\n",
    "    else:\n",
    "        wrong += 1\n",
    "    i+=1\n",
    "\n",
    "print(\"-- Results --\")\n",
    "print(\"Right # =\", correct)\n",
    "print(\"Wrong # =\", wrong)\n",
    "print(\"Correct =\", (correct / SAMPLE_SIZE) * 100,\"%\")"
   ]
  },
  {
   "cell_type": "code",
   "execution_count": null,
   "metadata": {
    "collapsed": true
   },
   "outputs": [],
   "source": []
  }
 ],
 "metadata": {
  "kernelspec": {
   "display_name": "Python 3",
   "language": "python",
   "name": "python3"
  },
  "language_info": {
   "codemirror_mode": {
    "name": "ipython",
    "version": 3
   },
   "file_extension": ".py",
   "mimetype": "text/x-python",
   "name": "python",
   "nbconvert_exporter": "python",
   "pygments_lexer": "ipython3",
   "version": "3.6.2"
  }
 },
 "nbformat": 4,
 "nbformat_minor": 2
}
